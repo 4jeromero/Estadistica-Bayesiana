{
 "cells": [
  {
   "cell_type": "markdown",
   "metadata": {},
   "source": [
    "<h1 align='center'> Curso de Estadística Bayesiana<br> Computación Bayesiana Básica</h1> \n",
    "\n",
    "<h3>Autor</h3>\n",
    "\n",
    "1. Alvaro Mauricio Montenegro Díaz, ammontenegrod@unal.edu.co\n",
    "2. Daniel Mauricio Montenegro Reyes, dextronomo@gmail.com \n",
    "\n",
    "<h3>Fork</h3>\n",
    "\n",
    "<h3>Referencias</h3>"
   ]
  },
  {
   "cell_type": "markdown",
   "metadata": {},
   "source": [
    "En esta lección aprenderemos conceptos básicos de programación probabilística usando Python. Para familiarizarse con el lenguaje, vaya a los cuadernos de JupyterLab sobre Python.\n",
    "\n",
    "El siguiente código carga las librerías que se usaran en esta lección. Este código por lo genral deb cargarse para hacer los cálculos Bayesianos haciendo uso de Pyton. Pronto abriremos Stan.\n",
    "\n",
    "$\\leadsto$  *Pregúntele al profesor o OK Google lo que no entienda*."
   ]
  },
  {
   "cell_type": "code",
   "execution_count": 2,
   "metadata": {},
   "outputs": [],
   "source": [
    "# importando librearias\n",
    "import matplotlib.pyplot as plt\n",
    "import numpy as np\n",
    "from scipy import stats\n",
    "#import seaborn as sns"
   ]
  },
  {
   "cell_type": "markdown",
   "metadata": {},
   "source": [
    "<h2> 1.  Distribución Binomial </h2>\n",
    "\n",
    "\n",
    "Por la forma como hemos descrito la forma de obtención de los datos y si se ha supuesto que el globo se pincharía exáctamente $n$ veces, entonces la probabilidad de obtener $w$ veces agua esta dada por \n",
    "\n",
    "$$P(w| \\mu, n) \\equiv   \\binom{n}{w} \\mu^w(1-\\mu)^{n-w} = \\frac{n!}{(n-w)!w!} \\mu^w(1-\\mu)^{n-w}=Binomial(w;n,\\mu) $$\n",
    "\n",
    "El siguiente código genera el gráfico de la distribución Binomial para distintos valores de los parámetros. Recuerde siempre correr el código anterior, si va a comenzar su sesión. ¡¡Disfrutelo!!"
   ]
  },
  {
   "cell_type": "code",
   "execution_count": null,
   "metadata": {},
   "outputs": [],
   "source": [
    "# gráficos de la distribución Binomial\n",
    "import matplotlib.pyplot as plt\n",
    "import numpy as np\n",
    "from scipy import stats\n",
    "\n",
    "n_params = [1, 2, 4, 9]\n",
    "mu_params = [0.25, 0.5, 0.75]\n",
    "x = np.arange(0, max(n_params)+1)\n",
    "n_row = len(n_params)\n",
    "n_col = len(mu_params)\n",
    "fig, ax = plt.subplots(n_row, n_col, sharex = True, sharey = True, figsize=(10,8))\n",
    "for i in range(4):\n",
    "    for j in range(3):\n",
    "        n  = n_params[i]\n",
    "        mu = mu_params[j]\n",
    "        w  = stats.binom(n=n, p=mu).pmf(x)\n",
    "        ax[i,j].vlines(x,0,w,colors='b', lw=10)\n",
    "        ax[i,j].set_ylim(0,1)\n",
    "        ax[i,j].plot(0,0, label = \"n = {:3n}\\n $\\\\mu$ = {:3.2f}\".format(n,mu), alpha=0 )\n",
    "        ax[i,j].legend(fontsize=12)\n",
    "ax[3,1].set_xlabel('$w$', fontsize = 14)\n",
    "ax[2,0].set_ylabel('$p(w|\\\\mu)$',fontsize=14)\n",
    "ax[0,0].set_xticks(x)\n",
    "fig.suptitle('Gráficos de la función de probabilidad de la distribución Binomial',fontsize=16)\n",
    "plt.show()"
   ]
  },
  {
   "cell_type": "markdown",
   "metadata": {},
   "source": [
    "<h2> 2. Distribución Beta </h2>\n",
    "\n",
    "La función de densidad de probabilidad (fdp) de la distribución Beta con parámetros $\\alpha$ y $\\beta$ es dada por\n",
    "\n",
    "$$ Beta(x;\\alpha,\\beta) = \\frac{x^{\\alpha-1} (1-x)^{\\beta-1}}{Beta(\\alpha,\\beta)},$$\n",
    "\n",
    "con $x \\in [0,1]$, $\\alpha>0$, $\\beta>0$ y $Beta(\\alpha,\\beta)= \\frac{\\Gamma(\\alpha)\\Gamma(\\beta)}{\\Gamma(\\alpha+\\beta)}$ , en donde $\\Gamma$ es la función Gama. \n",
    "\n",
    "El siguiente código genera el gráfico de la distribución Beta para distintos valores de los parámetros. "
   ]
  },
  {
   "cell_type": "code",
   "execution_count": null,
   "metadata": {},
   "outputs": [],
   "source": [
    "alpha_params = [1.0, 0.5, 1.5, 1.2, 2.0, 2.0, 5.0, 1.0, 6.0]\n",
    "beta_params  = [1.0, 0.5, 1.2, 1.5, 2.0, 5.0, 2.0, 5.0, 1.0]\n",
    "\n",
    "\n",
    "idx = np.arange(9)\n",
    "\n",
    "row = np.array([0,0,0,1,1,1,2,2,2])\n",
    "col = np.array([0,1,2,0,1,2,0,1,2])\n",
    "x = np.linspace(0,1,100)\n",
    "\n",
    "fig, ax = plt.subplots(3, 3,sharex = True, sharey = True, figsize=(10,8))\n",
    "for i in idx:\n",
    "    alpha = alpha_params[i]\n",
    "    beta  = beta_params[i]\n",
    "    y = stats.beta(alpha,beta).pdf(x)\n",
    "    ax[col[i],row[i]].set_ylim(0,3)\n",
    "    ax[col[i],row[i]].plot(x,y)\n",
    "    ax[col[i],row[i]].plot(0, 0, label=\"$\\\\alpha$ = {:3.2f}\\n$\\\\beta$ = {:3.2f}\".format(alpha, beta), alpha=0)\n",
    "    ax[col[i],row[i]].legend(fontsize=12)\n",
    "ax[2,1].set_xlabel('$\\\\mu$', fontsize=14)\n",
    "ax[1,0].set_ylabel('$p(\\\\mu)$', fontsize=14)\n",
    "fig.suptitle('Gráficos de la función de densidad de la distribución Beta',fontsize=16)\n",
    "plt.show()\n",
    "    "
   ]
  },
  {
   "cell_type": "markdown",
   "metadata": {},
   "source": [
    "Distribuciones a priori y posterior ene le ejemplos de la clase 1. Asumimos un a priori $p(\\mu)= Beta(\\mu;1.5,1.2)$. Si $N=9$ y $w=6$, la distribcion posterior es $p(\\mu|w)= Beta(\\mu; 6 + 1.5, 10 -6 + 1.2)= Beta(\\mu;7.5,5.2)$."
   ]
  },
  {
   "cell_type": "code",
   "execution_count": null,
   "metadata": {},
   "outputs": [],
   "source": [
    "import matplotlib.pyplot as plt\n",
    "import numpy as np\n",
    "from scipy import stats\n",
    "\n",
    "# parameters of the distributions\n",
    "alpha_params =[1.5, 7.5]\n",
    "beta_params = [1.2, 5.2]\n",
    "\n",
    "# x values to the plot\n",
    "x = np.linspace(0,1,100)\n",
    "\n",
    "fig, ax = fig, ax = plt.subplots(figsize=(10,8))\n",
    "# delimit y axis\n",
    "ax.set_ylim(0,3)\n",
    "\n",
    "# prior parameters\n",
    "alpha = alpha_params[0]\n",
    "beta  = beta_params[0]\n",
    "\n",
    "# compute y values to prior plot\n",
    "y = stats.beta(alpha,beta).pdf(x)\n",
    "\n",
    "# plot the prior\n",
    "ax.plot(x,y,label = 'prior:Beta(1.5,1.2)')\n",
    "\n",
    "# Posterior parameters\n",
    "alpha = alpha_params[1]\n",
    "beta  = beta_params[1]\n",
    "\n",
    "# compute y values to prior plot\n",
    "y = stats.beta(alpha,beta).pdf(x)\n",
    "\n",
    "# plot the posterior\n",
    "ax.plot(x,y,label = 'posterior: Beta(7.5,5.2)')\n",
    "ax.set_xlabel('$\\\\mu$', fontsize=14)\n",
    "ax.set_ylabel('$p(\\\\mu)$', fontsize=14)\n",
    "fig.suptitle('Gráficos de la pdf a priori y posterior',fontsize=16)\n",
    "ax.legend()\n",
    "plt.show()\n",
    "    \n"
   ]
  },
  {
   "cell_type": "markdown",
   "metadata": {},
   "source": [
    "**Figura 2.3** pdf de las distribuciones a priori y posterior en el problema de lección anterior"
   ]
  },
  {
   "cell_type": "markdown",
   "metadata": {},
   "source": [
    "<h2> 3. La maquina Bayesiana en acción </h2>\n",
    "\n",
    "\n",
    "Ahora vamos a utilizar al máuina Bayesiana para hacwer las inferencias sobre el parámetro $\\mu$.\n",
    "\n",
    "La maquina Bayesiana entraga una distribución posterior. Usaremos este objeto para nuestros cálculos.\n",
    "\n",
    "<h3> Valores más plausibles.</h3>\n",
    "    \n",
    "Como la distribuión posterior descibe valores posibles del parámetro y su correspondiente distribución, el estadístico puede \n",
    "usar los siguientes criterios para seleccionar los valores más plausibles.\n",
    "\n",
    "1. La moda de la distribución posterior: MAP.\n",
    "2. La mediana de la distribución posterior: MEAP.\n",
    "3. La media (esperanza) a posterior: EAP.\n",
    "\n",
    "<h3> La Moda posterior (MAP) </h3>\n",
    "    \n",
    "    \n",
    "El siguiente código permite calcular la MAP de la distribución $Beta(7.5, 5.2)$"
   ]
  },
  {
   "cell_type": "code",
   "execution_count": 6,
   "metadata": {},
   "outputs": [],
   "source": [
    "import matplotlib.pyplot as plt\n",
    "import numpy as np\n",
    "from scipy import stats\n",
    "from scipy.optimize import minimize_scalar as minimize\n",
    "\n",
    "def f(t,alpha,beta):\n",
    "    return  -stats.beta(alpha,beta).pdf(t)\n",
    "\n",
    "lower = 1e-3\n",
    "upper = 1  - 1e-3 \n",
    "mode_f = minimize(f, bounds =(lower,upper),args=( 7.5,5.2), method='bounded' )\n",
    "#scipy.optimize.minimize_scalar(fun=f, bracket=None, bounds=None, args=(), method='brent', tol=None, options=None)[source]"
   ]
  },
  {
   "cell_type": "code",
   "execution_count": 7,
   "metadata": {},
   "outputs": [
    {
     "data": {
      "text/plain": [
       "     fun: -2.8505156362159867\n",
       " message: 'Solution found.'\n",
       "    nfev: 9\n",
       "  status: 0\n",
       " success: True\n",
       "       x: 0.607477735745656"
      ]
     },
     "execution_count": 7,
     "metadata": {},
     "output_type": "execute_result"
    }
   ],
   "source": [
    "mode_f"
   ]
  },
  {
   "cell_type": "markdown",
   "metadata": {},
   "source": [
    "Luego MAP = 0.607477735745656.\n",
    "\n",
    "Por otro lado, dado que $\\alpha, \\beta >1$, podemos usar la formula\n",
    "\n",
    "$$MAP = \\frac{\\alpha-1}{\\alpha+\\beta-2}=  0.6074766355140188$$\n",
    "\n",
    "<h3> Mediana  posterior </h3> \n",
    "\n",
    "De nuevo como como $\\alpha,\\beta >1$,  podemos usar la aproximación\n",
    "\n",
    "$$MEAP \\approx \\frac{\\alpha- \\tfrac{1}{3}}{\\alpha + \\beta-\\tfrac{2}{3}}=0.5955678670360111$$\n",
    "\n",
    "Por otro lado, si usamos la implementación de la densidad en Python, la mediana es el quantil 50. Luego, el sighiente código\n",
    "calcula de manera muy precisa la mediana posterior."
   ]
  },
  {
   "cell_type": "code",
   "execution_count": 8,
   "metadata": {},
   "outputs": [
    {
     "data": {
      "text/plain": [
       "0.5954464513255184"
      ]
     },
     "execution_count": 8,
     "metadata": {},
     "output_type": "execute_result"
    }
   ],
   "source": [
    "MEAP = stats.beta(alpha,beta).ppf(0.5)\n",
    "MEAP\n",
    "# o también\n",
    "stats.beta(alpha,beta).median()"
   ]
  },
  {
   "cell_type": "markdown",
   "metadata": {},
   "source": [
    "<h3> Esperanza posterior </h3>  \n",
    "\n",
    "La media exacta es dada por\n",
    "$$EAP = \\frac{\\alpha}{\\alpha+\\beta}=0.5905511811023623$$.\n",
    "Usando la implementación de Python obtenemos"
   ]
  },
  {
   "cell_type": "code",
   "execution_count": 9,
   "metadata": {},
   "outputs": [
    {
     "data": {
      "text/plain": [
       "0.5905511811023623"
      ]
     },
     "execution_count": 9,
     "metadata": {},
     "output_type": "execute_result"
    }
   ],
   "source": [
    "EAP = stats.beta(alpha,beta).mean()\n",
    "EAP"
   ]
  },
  {
   "cell_type": "code",
   "execution_count": 10,
   "metadata": {},
   "outputs": [
    {
     "name": "stdout",
     "output_type": "stream",
     "text": [
      "[0.41302139 0.76127185] \n",
      " [0.32190863 0.83223348]\n"
     ]
    }
   ],
   "source": [
    "# Intervalos de credibilidad\n",
    "i_cred_80 = stats.beta(alpha,beta).ppf((0.1,0.9))\n",
    "i_cred_95 = stats.beta(alpha,beta).ppf((0.025,0.975))\n",
    "print(i_cred_80,\"\\n\",i_cred_95)"
   ]
  },
  {
   "cell_type": "markdown",
   "metadata": {},
   "source": [
    "<h3> Monte Carlo </h3> \n",
    "\n",
    "En esta sección  usaremos una muestra de la distribución posterior de tamaño N = 5000\n",
    " "
   ]
  },
  {
   "cell_type": "code",
   "execution_count": 11,
   "metadata": {},
   "outputs": [],
   "source": [
    "N=5000\n",
    "sample = stats.beta(alpha,beta).rvs(size=N)"
   ]
  },
  {
   "cell_type": "code",
   "execution_count": 12,
   "metadata": {},
   "outputs": [
    {
     "data": {
      "text/plain": [
       "(5000,)"
      ]
     },
     "execution_count": 12,
     "metadata": {},
     "output_type": "execute_result"
    }
   ],
   "source": [
    "np.shape(sample)"
   ]
  },
  {
   "cell_type": "code",
   "execution_count": null,
   "metadata": {},
   "outputs": [],
   "source": [
    "# histogram\n",
    "import numpy as np\n",
    "import matplotlib.mlab as mlab\n",
    "import matplotlib.pyplot as plt\n",
    "\n",
    "num_bins = 100\n",
    "n, bins, patches = plt.hist(sample, num_bins, facecolor='blue', alpha=0.5)\n",
    "plt.show()\n"
   ]
  },
  {
   "cell_type": "code",
   "execution_count": 14,
   "metadata": {},
   "outputs": [
    {
     "data": {
      "text/plain": [
       "DescribeResult(nobs=5000, minmax=(0.10809317694187918, 0.9471861022531335), mean=0.5899430474005098, variance=0.017898566983269883, skewness=-0.173215750174695, kurtosis=-0.37695925542187414)"
      ]
     },
     "execution_count": 14,
     "metadata": {},
     "output_type": "execute_result"
    }
   ],
   "source": [
    "# statistics\n",
    "stats.describe(sample)"
   ]
  },
  {
   "cell_type": "code",
   "execution_count": null,
   "metadata": {},
   "outputs": [],
   "source": []
  },
  {
   "cell_type": "code",
   "execution_count": 15,
   "metadata": {},
   "outputs": [
    {
     "data": {
      "text/plain": [
       "masked_array(data=[0.32435441, 0.40722748, 0.49615183, 0.59519276,\n",
       "                   0.68651494, 0.76105724, 0.83404114],\n",
       "             mask=False,\n",
       "       fill_value=1e+20)"
      ]
     },
     "execution_count": 15,
     "metadata": {},
     "output_type": "execute_result"
    }
   ],
   "source": [
    "# quantiles\n",
    "stats.mstats.hdquantiles(sample, prob=[0.025,.1,0.25, 0.5, 0.75,.9, 0.975])"
   ]
  },
  {
   "cell_type": "code",
   "execution_count": null,
   "metadata": {},
   "outputs": [],
   "source": [
    "# show the sample as a time series\n",
    "import pandas as pd\n",
    "df = pd.DataFrame(data=sample)\n",
    "df.plot()"
   ]
  },
  {
   "cell_type": "markdown",
   "metadata": {},
   "source": [
    "<h2> 4. Tarea </h2> \n",
    "\n",
    "Reproduzca con su propio código Python la figuras 3 y 6 de la lección 1.\n",
    "Complete los calculos y gáficos de la lección."
   ]
  }
 ],
 "metadata": {
  "kernelspec": {
   "display_name": "Python 3",
   "language": "python",
   "name": "python3"
  },
  "language_info": {
   "codemirror_mode": {
    "name": "ipython",
    "version": 3
   },
   "file_extension": ".py",
   "mimetype": "text/x-python",
   "name": "python",
   "nbconvert_exporter": "python",
   "pygments_lexer": "ipython3",
   "version": "3.7.5"
  }
 },
 "nbformat": 4,
 "nbformat_minor": 4
}
