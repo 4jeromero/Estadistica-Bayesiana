{
 "cells": [
  {
   "cell_type": "markdown",
   "metadata": {},
   "source": [
    "<h1 align='center'> Curso de Estadística Bayesiana<br> Taller de Computación Bayesiana<h3>Autor</h3>\n",
    "\n",
    "1. Alvaro Mauricio Montenegro Díaz, ammontenegrod@unal.edu.co\n",
    "2. Daniel Mauricio Montenegro Reyes, dextronomo@gmail.com \n",
    "\n",
    "<h3>Fork</h3>\n",
    "\n",
    "<h3>Referencias</h3>\n",
    "\n",
    "\n"
   ]
  },
  {
   "cell_type": "markdown",
   "metadata": {},
   "source": [
    "<h2> Modelo Binomial</h2>\n",
    "\n",
    "<h3> El problema</h3>\n",
    "\n",
    "Vamos a generar una observación Binomial. Para ello primero generamos un parámetro $\\mu$ a partir de una distibución Beta. Usaremos los hiperparámetros $\\alpha=5$ y $\\beta=2$. Capricho del profesor. Vamos"
   ]
  },
  {
   "cell_type": "code",
   "execution_count": null,
   "metadata": {},
   "outputs": [],
   "source": [
    "# Import librerias\n",
    "import matplotlib.pyplot as plt\n",
    "import numpy as np\n",
    "from scipy import stats\n",
    "\n",
    "# genera una semilla de los números aleatorios para hacer rpetible el ejercicio\n",
    "np.random.seed(seed = 500) "
   ]
  },
  {
   "cell_type": "markdown",
   "metadata": {},
   "source": [
    "<h3> Simula el parámetro $\\mu$</h3>"
   ]
  },
  {
   "cell_type": "code",
   "execution_count": null,
   "metadata": {},
   "outputs": [],
   "source": [
    "alpha = 5\n",
    "beta = 2\n",
    "mu = stats.beta(alpha,beta).rvs(1)"
   ]
  },
  {
   "cell_type": "code",
   "execution_count": null,
   "metadata": {},
   "outputs": [],
   "source": [
    "print(\"mu= \",mu)"
   ]
  },
  {
   "cell_type": "markdown",
   "metadata": {},
   "source": [
    "Este es el parámetro de interés que intentaremos recuperar más adelante.\n",
    "\n",
    "<h3> Simula la observación aleatoria binomial $w$</h3>\n",
    "Vamos a suponer un experimento $\\text{Binomial} (N,\\mu)$, con $N= 100$."
   ]
  },
  {
   "cell_type": "code",
   "execution_count": null,
   "metadata": {},
   "outputs": [],
   "source": [
    "N =100\n",
    "w = stats.binom(n=N, p=mu).rvs(1)"
   ]
  },
  {
   "cell_type": "code",
   "execution_count": null,
   "metadata": {},
   "outputs": [],
   "source": [
    "print(\"w= \",w)"
   ]
  },
  {
   "cell_type": "markdown",
   "metadata": {},
   "source": [
    "<h3> Calculo de la posterior</h3>\n",
    "\n",
    "Vamos a suponer un apriori $\\beta(1.2,1.2)$. NOs olvidamos de la distribiución usada para generar $\\mu$, puesto en la practica se desconoce.\n",
    "\n",
    "Veámos un gráfico"
   ]
  },
  {
   "cell_type": "code",
   "execution_count": null,
   "metadata": {},
   "outputs": [],
   "source": [
    "x = np.linspace(0,1,100)\n",
    "y = stats.beta(1.2,1.2).pdf(x)\n",
    "\n",
    "fig, ax = plt.subplots(1, 1,sharex = True, sharey = True, figsize=(6,4))\n",
    "ax.set_ylim(0,1.2)\n",
    "ax.plot(x,y)\n",
    "ax.plot(0, 0, label=\"$\\\\alpha$ = {:3.2f}\\n$\\\\beta$ = {:3.2f}\".format(1.2, 1.2), alpha=0)\n",
    "ax.legend(fontsize=12)\n",
    "fig.suptitle('Gráficos de la apriori propuesta Beta(1.2,1.2)',fontsize=16)\n",
    "plt.show()"
   ]
  },
  {
   "cell_type": "markdown",
   "metadata": {},
   "source": [
    "Esta distribución es cercana a la uniformo $U(0,1)$. ¿Porque?"
   ]
  },
  {
   "cell_type": "markdown",
   "metadata": {},
   "source": [
    "La distribución posterior es $\\text{Gamma}(1.2 +w, 1.2 + N-w)=\\text{Gamma}(70.2, 32.2)$"
   ]
  },
  {
   "cell_type": "markdown",
   "metadata": {},
   "source": [
    "<h3> Estimaciones</h3>\n",
    "\n",
    "<h4> Moda Posterior </h4>"
   ]
  },
  {
   "cell_type": "code",
   "execution_count": null,
   "metadata": {},
   "outputs": [],
   "source": [
    "from scipy.optimize import minimize_scalar as minimize\n",
    "\n",
    "def f(t,alpha,beta):\n",
    "    return  -stats.beta(alpha,beta).pdf(t)\n",
    "\n",
    "lower = 1e-3\n",
    "upper = 1  - 1e-3 \n",
    "mode_f = minimize(f, bounds =(lower,upper),args=( 70.2,32.2), method='bounded' )"
   ]
  },
  {
   "cell_type": "code",
   "execution_count": null,
   "metadata": {},
   "outputs": [],
   "source": [
    "mode_f"
   ]
  },
  {
   "cell_type": "code",
   "execution_count": null,
   "metadata": {},
   "outputs": [],
   "source": [
    "MAP = mode_f.x"
   ]
  },
  {
   "cell_type": "markdown",
   "metadata": {},
   "source": [
    "<h4> Mediana Posterior </h4>"
   ]
  },
  {
   "cell_type": "code",
   "execution_count": null,
   "metadata": {},
   "outputs": [],
   "source": [
    "MEAP = stats.beta(70.2,32.2).ppf(0.5)\n",
    "MEAP\n",
    "# o también\n",
    "stats.beta(70.2,32.2).median()"
   ]
  },
  {
   "cell_type": "markdown",
   "metadata": {},
   "source": [
    "<h4> Media a Posterior </h4>"
   ]
  },
  {
   "cell_type": "code",
   "execution_count": null,
   "metadata": {},
   "outputs": [],
   "source": [
    "EAP = stats.beta(alpha,beta).mean()\n",
    "EAP"
   ]
  },
  {
   "cell_type": "markdown",
   "metadata": {},
   "source": [
    "<h4> Intervalo de credibilidad  del 95%</h4>"
   ]
  },
  {
   "cell_type": "code",
   "execution_count": null,
   "metadata": {},
   "outputs": [],
   "source": [
    "i_cred_94 = stats.beta(70.2,32.2).ppf((0.03,0.97))\n",
    "print(\"I.C. 94\\%\",i_cred_94)"
   ]
  },
  {
   "cell_type": "markdown",
   "metadata": {},
   "source": [
    "<h4> Desviación estándar de la posterior</h4>"
   ]
  },
  {
   "cell_type": "code",
   "execution_count": null,
   "metadata": {},
   "outputs": [],
   "source": [
    "desv= stats.beta(alpha,beta).std()\n",
    "desv"
   ]
  },
  {
   "cell_type": "markdown",
   "metadata": {},
   "source": [
    "<h4> Resumen Estadístico de la Distribución Posterior</h4>"
   ]
  },
  {
   "cell_type": "markdown",
   "metadata": {},
   "source": [
    "|Moda |Mediana | Media |Desv.|i_3%|i_97%|\n",
    "|---|---|---|---|---|---|\n",
    "|0.689|0.687|0.714|0.16|0.597|0.768|"
   ]
  },
  {
   "cell_type": "code",
   "execution_count": null,
   "metadata": {},
   "outputs": [],
   "source": [
    "x = np.linspace(0,1,100)\n",
    "y = stats.beta(1.2,1.2).pdf(x)\n",
    "\n",
    "fig, ax = plt.subplots(1, 2,sharex = True, figsize=(20,6))\n",
    "ax[0].set_ylim(0,9)\n",
    "ax[0].plot(x,y)\n",
    "ax[0].plot(0, 0, label=\"A priori: \\n$\\\\alpha$ = {:3.2f}\\n$\\\\beta$ = {:3.2f}\".format(1.2, 1.2), alpha=0)\n",
    "ax[0].legend(fontsize=12)\n",
    "\n",
    "y = stats.beta(70.2,32.2).pdf(x)\n",
    "\n",
    "ax[1].set_ylim(0,9)\n",
    "ax[1].plot(x,y)\n",
    "ax[1].plot(0, 0, label=\"Posterior: \\n$\\\\alpha$ = {:3.2f}\\n$\\\\beta$ = {:3.2f}\".format(70.2, 32.2), alpha=0)\n",
    "ax[1].legend(fontsize=12)\n",
    "fig.suptitle('Gráficos de la apriori y la posterior de $\\mu$',fontsize=16)\n",
    "plt.show()"
   ]
  },
  {
   "cell_type": "markdown",
   "metadata": {},
   "source": [
    "<h2> Stan</h2>"
   ]
  },
  {
   "cell_type": "code",
   "execution_count": null,
   "metadata": {},
   "outputs": [],
   "source": [
    "# diccionario de datos\n",
    "\n",
    "w=69\n",
    "datos_binom = {'N': N,\n",
    "               'w': w,\n",
    "               'a': 1.2,\n",
    "               'b': 1.2}"
   ]
  },
  {
   "cell_type": "code",
   "execution_count": null,
   "metadata": {},
   "outputs": [],
   "source": [
    "datos_binom"
   ]
  },
  {
   "cell_type": "code",
   "execution_count": null,
   "metadata": {},
   "outputs": [],
   "source": [
    "binomial_code = \"\"\"\n",
    "data {\n",
    "    int<lower=0> N; // number of esays\n",
    "    int<lower=0,upper=N> w; // estimated treatment effects\n",
    "    real<lower=0.0> a; \n",
    "    real<lower=0.0> b; \n",
    "}\n",
    "\n",
    "parameters {\n",
    "    real<lower=0.0001,upper=0.9999> mu;\n",
    "}\n",
    "\n",
    "model {\n",
    "   mu ~ beta(a, b);\n",
    "    w ~ binomial(N, mu);\n",
    "}\n",
    "\n",
    "generated quantities {\n",
    "    real log_lik;\n",
    "    int w_hat;\n",
    "    log_lik = binomial_lpmf(w | N,mu);\n",
    "    w_hat = binomial_rng(N, mu);\n",
    "}\n",
    "\"\"\""
   ]
  },
  {
   "cell_type": "code",
   "execution_count": null,
   "metadata": {},
   "outputs": [],
   "source": [
    "print(binomial_code)"
   ]
  },
  {
   "cell_type": "markdown",
   "metadata": {},
   "source": [
    "<h4> Compila el modelo </h4>"
   ]
  },
  {
   "cell_type": "code",
   "execution_count": null,
   "metadata": {},
   "outputs": [],
   "source": [
    "# importamos Stan\n",
    "import pystan"
   ]
  },
  {
   "cell_type": "code",
   "execution_count": null,
   "metadata": {},
   "outputs": [],
   "source": [
    "# compile the  model\n",
    "bm = pystan.StanModel(model_code=binomial_code)"
   ]
  },
  {
   "cell_type": "markdown",
   "metadata": {},
   "source": [
    "<h4> Extrae las muestras de la Posterior </h4>"
   ]
  },
  {
   "cell_type": "code",
   "execution_count": null,
   "metadata": {},
   "outputs": [],
   "source": [
    "# extract the samples\n",
    "samples = bm.sampling(data=datos_binom, iter=2000, chains=4)"
   ]
  },
  {
   "cell_type": "code",
   "execution_count": null,
   "metadata": {},
   "outputs": [],
   "source": [
    "samples"
   ]
  },
  {
   "cell_type": "markdown",
   "metadata": {},
   "source": [
    "<h4> Moda de la Posterior </h4>"
   ]
  },
  {
   "cell_type": "code",
   "execution_count": null,
   "metadata": {},
   "outputs": [],
   "source": [
    "op = bm.optimizing(data=datos_binom)\n",
    "op"
   ]
  },
  {
   "cell_type": "markdown",
   "metadata": {},
   "source": [
    "<h4> Análisis Exploratorio Bayesiano </h4>\n",
    "\n",
    "Usaremos ArviZ"
   ]
  },
  {
   "cell_type": "code",
   "execution_count": null,
   "metadata": {},
   "outputs": [],
   "source": [
    "import arviz as az\n",
    "import numpy as np\n",
    "import pandas as pd\n",
    "import xarray\n"
   ]
  },
  {
   "cell_type": "code",
   "execution_count": null,
   "metadata": {},
   "outputs": [],
   "source": [
    "az.style.use('arviz-darkgrid')\n",
    "\n",
    "xarray.set_options(display_style=\"html\");\n",
    "\n",
    "stan_data = az.from_pystan(\n",
    "    posterior=samples,\n",
    "    posterior_predictive='w_hat',\n",
    "    observed_data=['w'],\n",
    "    log_likelihood={'w': 'log_lik'},\n",
    "    )"
   ]
  },
  {
   "cell_type": "code",
   "execution_count": null,
   "metadata": {},
   "outputs": [],
   "source": [
    "az.plot_density(stan_data, var_names=['mu']);"
   ]
  },
  {
   "cell_type": "code",
   "execution_count": null,
   "metadata": {},
   "outputs": [],
   "source": [
    "az.plot_autocorr(stan_data, var_names=(\"mu\"))"
   ]
  },
  {
   "cell_type": "code",
   "execution_count": null,
   "metadata": {},
   "outputs": [],
   "source": [
    "az.plot_forest(stan_data, var_names=(\"mu\"))"
   ]
  },
  {
   "cell_type": "code",
   "execution_count": null,
   "metadata": {},
   "outputs": [],
   "source": [
    "az.plot_trace(stan_data, var_names=(\"mu\"))"
   ]
  },
  {
   "cell_type": "code",
   "execution_count": null,
   "metadata": {},
   "outputs": [],
   "source": [
    "az.plot_mcse(stan_data)"
   ]
  },
  {
   "cell_type": "code",
   "execution_count": null,
   "metadata": {},
   "outputs": [],
   "source": [
    "az.summary(samples)"
   ]
  },
  {
   "cell_type": "code",
   "execution_count": null,
   "metadata": {},
   "outputs": [],
   "source": [
    "az.plot_posterior(samples)"
   ]
  },
  {
   "cell_type": "code",
   "execution_count": null,
   "metadata": {},
   "outputs": [],
   "source": []
  }
 ],
 "metadata": {
  "kernelspec": {
   "display_name": "Python 3",
   "language": "python",
   "name": "python3"
  },
  "language_info": {
   "codemirror_mode": {
    "name": "ipython",
    "version": 3
   },
   "file_extension": ".py",
   "mimetype": "text/x-python",
   "name": "python",
   "nbconvert_exporter": "python",
   "pygments_lexer": "ipython3",
   "version": "3.7.5"
  }
 },
 "nbformat": 4,
 "nbformat_minor": 4
}
